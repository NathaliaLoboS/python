{
  "nbformat": 4,
  "nbformat_minor": 0,
  "metadata": {
    "colab": {
      "provenance": []
    },
    "kernelspec": {
      "name": "python3",
      "display_name": "Python 3"
    },
    "language_info": {
      "name": "python"
    }
  },
  "cells": [
    {
      "cell_type": "code",
      "execution_count": null,
      "metadata": {
        "colab": {
          "base_uri": "https://localhost:8080/"
        },
        "id": "oDr2pg8A-KwL",
        "outputId": "3f1d2a19-d063-4ba1-d20a-965be788147c"
      },
      "outputs": [
        {
          "output_type": "execute_result",
          "data": {
            "text/plain": [
              "4"
            ]
          },
          "metadata": {},
          "execution_count": 1
        }
      ],
      "source": [
        "2+2"
      ]
    },
    {
      "cell_type": "markdown",
      "source": [
        "# Estrutura de dados\n",
        "\n",
        "[Material online](https://docs.python.org/3/tutorial/datastructures.html)"
      ],
      "metadata": {
        "id": "rs-gBSv8JZXq"
      }
    },
    {
      "cell_type": "markdown",
      "source": [
        "Lista ([22,'Ana'], mais comum para estatística),\n",
        "\n",
        "tupla (imutável - (22,'Ana')) ,\n",
        "\n",
        "dicionário (pares de elementos {nome:'Ana',idade:22})\n",
        "\n",
        "e sets (conjunto, composto de valores únicos, operações entre conuntos: intersecção, união ...)"
      ],
      "metadata": {
        "id": "yltV7TCDMvos"
      }
    },
    {
      "cell_type": "code",
      "source": [
        "lista1 = [1,10,100]"
      ],
      "metadata": {
        "id": "IejwBpiqJYeU"
      },
      "execution_count": null,
      "outputs": []
    },
    {
      "cell_type": "code",
      "source": [
        "lista1"
      ],
      "metadata": {
        "colab": {
          "base_uri": "https://localhost:8080/"
        },
        "id": "vzrT4rZDTPt6",
        "outputId": "4efb1ab0-06dc-4db2-bacd-b565cb08c6fa"
      },
      "execution_count": null,
      "outputs": [
        {
          "output_type": "execute_result",
          "data": {
            "text/plain": [
              "[1, 10, 100]"
            ]
          },
          "metadata": {},
          "execution_count": 4
        }
      ]
    },
    {
      "cell_type": "code",
      "source": [
        "print(lista1)"
      ],
      "metadata": {
        "colab": {
          "base_uri": "https://localhost:8080/"
        },
        "id": "D72c5W0UTSUC",
        "outputId": "8290d560-f14c-4735-cf44-6f47a1c07525"
      },
      "execution_count": null,
      "outputs": [
        {
          "output_type": "stream",
          "name": "stdout",
          "text": [
            "[1, 10, 100]\n"
          ]
        }
      ]
    },
    {
      "cell_type": "markdown",
      "source": [
        "O print é implicito no notebook, mas a casos em que é necessário o uso do print"
      ],
      "metadata": {
        "id": "gDS0DH4UTZUN"
      }
    },
    {
      "cell_type": "code",
      "source": [
        "lista1[0]"
      ],
      "metadata": {
        "colab": {
          "base_uri": "https://localhost:8080/"
        },
        "id": "hA3DRjtHTm7N",
        "outputId": "382b0ad8-d37e-4b1b-832e-ae6304580c10"
      },
      "execution_count": null,
      "outputs": [
        {
          "output_type": "execute_result",
          "data": {
            "text/plain": [
              "1"
            ]
          },
          "metadata": {},
          "execution_count": 6
        }
      ]
    },
    {
      "cell_type": "code",
      "source": [
        "lista[3]"
      ],
      "metadata": {
        "colab": {
          "base_uri": "https://localhost:8080/",
          "height": 176
        },
        "id": "shy7uRYNTyeR",
        "outputId": "619c0f0e-7e9d-4594-c439-8486d41c61f5"
      },
      "execution_count": null,
      "outputs": [
        {
          "output_type": "error",
          "ename": "NameError",
          "evalue": "name 'lista' is not defined",
          "traceback": [
            "\u001b[0;31m---------------------------------------------------------------------------\u001b[0m",
            "\u001b[0;31mNameError\u001b[0m                                 Traceback (most recent call last)",
            "\u001b[0;32m<ipython-input-7-34a960744870>\u001b[0m in \u001b[0;36m<cell line: 1>\u001b[0;34m()\u001b[0m\n\u001b[0;32m----> 1\u001b[0;31m \u001b[0mlista\u001b[0m\u001b[0;34m[\u001b[0m\u001b[0;36m3\u001b[0m\u001b[0;34m]\u001b[0m\u001b[0;34m\u001b[0m\u001b[0;34m\u001b[0m\u001b[0m\n\u001b[0m",
            "\u001b[0;31mNameError\u001b[0m: name 'lista' is not defined"
          ]
        }
      ]
    },
    {
      "cell_type": "code",
      "source": [
        "lista1[-1]"
      ],
      "metadata": {
        "colab": {
          "base_uri": "https://localhost:8080/"
        },
        "id": "P8sjI31SUIK2",
        "outputId": "5df31ab0-2fc2-40e3-f449-5dba10836c1a"
      },
      "execution_count": null,
      "outputs": [
        {
          "output_type": "execute_result",
          "data": {
            "text/plain": [
              "100"
            ]
          },
          "metadata": {},
          "execution_count": 8
        }
      ]
    },
    {
      "cell_type": "markdown",
      "source": [
        "O python começa com zero, e dá problema se ultrapassar a quantidade de elementos a partir deles"
      ],
      "metadata": {
        "id": "XJkxyacLT2IJ"
      }
    },
    {
      "cell_type": "code",
      "source": [
        "lista2 = [9,8,7,6,5,4,3]"
      ],
      "metadata": {
        "id": "Tg1GP5cRUBPA"
      },
      "execution_count": null,
      "outputs": []
    },
    {
      "cell_type": "code",
      "source": [
        "lista2[2:6]"
      ],
      "metadata": {
        "colab": {
          "base_uri": "https://localhost:8080/"
        },
        "id": "-bAE-wspURF3",
        "outputId": "684a6e9e-5e37-4608-e8bf-cf83697300a2"
      },
      "execution_count": null,
      "outputs": [
        {
          "output_type": "execute_result",
          "data": {
            "text/plain": [
              "[7, 6, 5, 4]"
            ]
          },
          "metadata": {},
          "execution_count": 10
        }
      ]
    },
    {
      "cell_type": "markdown",
      "source": [
        "lista2[inclusive:exclusive]"
      ],
      "metadata": {
        "id": "giaGJ0pMUVaC"
      }
    },
    {
      "cell_type": "code",
      "source": [
        "lista2[1] = 8000"
      ],
      "metadata": {
        "id": "ATBc3C7CUcqC"
      },
      "execution_count": null,
      "outputs": []
    },
    {
      "cell_type": "code",
      "source": [
        "lista2"
      ],
      "metadata": {
        "colab": {
          "base_uri": "https://localhost:8080/"
        },
        "id": "8cl06zapUm30",
        "outputId": "4d096416-a8d9-4f91-c40b-b047f17ef59e"
      },
      "execution_count": null,
      "outputs": [
        {
          "output_type": "execute_result",
          "data": {
            "text/plain": [
              "[9, 8000, 7, 6, 5, 4, 3]"
            ]
          },
          "metadata": {},
          "execution_count": 12
        }
      ]
    },
    {
      "cell_type": "code",
      "source": [
        "lista2[:-3]=[\"a\",\"b\",20,\"fim\"]"
      ],
      "metadata": {
        "id": "eg3SERy5Um0Y"
      },
      "execution_count": null,
      "outputs": []
    },
    {
      "cell_type": "code",
      "source": [
        "lista2"
      ],
      "metadata": {
        "colab": {
          "base_uri": "https://localhost:8080/"
        },
        "id": "CE3QHCocU4h9",
        "outputId": "4bd75e4c-22ed-4aac-e09e-4b7985be103c"
      },
      "execution_count": null,
      "outputs": [
        {
          "output_type": "execute_result",
          "data": {
            "text/plain": [
              "['a', 'b', 20, 'fim', 5, 4, 3]"
            ]
          },
          "metadata": {},
          "execution_count": 14
        }
      ]
    },
    {
      "cell_type": "code",
      "source": [
        "lista2[-1] = 'tres'\n",
        "lista2"
      ],
      "metadata": {
        "colab": {
          "base_uri": "https://localhost:8080/"
        },
        "id": "ATsttL1iVB3i",
        "outputId": "b8c0d4b4-4fad-4901-bc91-234113300eac"
      },
      "execution_count": null,
      "outputs": [
        {
          "output_type": "execute_result",
          "data": {
            "text/plain": [
              "['a', 'b', 20, 'fim', 5, 4, 'tres']"
            ]
          },
          "metadata": {},
          "execution_count": 16
        }
      ]
    },
    {
      "cell_type": "markdown",
      "source": [
        "Alterando informações por index"
      ],
      "metadata": {
        "id": "sXihM7AQU62g"
      }
    },
    {
      "cell_type": "markdown",
      "source": [
        "**Operadores**:\n",
        "\n",
        "Materiais:\n",
        "1. https://docs.python.org/3/library/operator.html\n",
        "2. https://docs.python.org/3/library/stdtypes.html"
      ],
      "metadata": {
        "id": "xgG4ZXEuWCtE"
      }
    },
    {
      "cell_type": "code",
      "source": [
        "print(lista1)\n",
        "print(lista2)\n",
        "print(lista1+lista2)"
      ],
      "metadata": {
        "colab": {
          "base_uri": "https://localhost:8080/"
        },
        "id": "Ts5fIY_qU-hF",
        "outputId": "4420128c-c665-492e-c496-23a98cf472fd"
      },
      "execution_count": null,
      "outputs": [
        {
          "output_type": "stream",
          "name": "stdout",
          "text": [
            "[1, 10, 100]\n",
            "['a', 'b', 20, 'fim', 5, 4, 'tres']\n",
            "[1, 10, 100, 'a', 'b', 20, 'fim', 5, 4, 'tres']\n"
          ]
        }
      ]
    },
    {
      "cell_type": "code",
      "source": [
        "lista1.append([200,300])\n",
        "lista1"
      ],
      "metadata": {
        "colab": {
          "base_uri": "https://localhost:8080/"
        },
        "id": "rIa_02SkWvt1",
        "outputId": "69c698a7-104d-4613-b483-cd7dcf3821ac"
      },
      "execution_count": null,
      "outputs": [
        {
          "output_type": "execute_result",
          "data": {
            "text/plain": [
              "[1, 10, 100, [200, 300]]"
            ]
          },
          "metadata": {},
          "execution_count": 18
        }
      ]
    },
    {
      "cell_type": "code",
      "source": [
        "lista1[-1][-1]"
      ],
      "metadata": {
        "colab": {
          "base_uri": "https://localhost:8080/"
        },
        "id": "BLHf5YedW-GH",
        "outputId": "bde3a5e1-08f8-451e-b56f-c012331cd23f"
      },
      "execution_count": null,
      "outputs": [
        {
          "output_type": "execute_result",
          "data": {
            "text/plain": [
              "300"
            ]
          },
          "metadata": {},
          "execution_count": 19
        }
      ]
    },
    {
      "cell_type": "code",
      "source": [
        "lista1.extend([500,600])\n",
        "lista1"
      ],
      "metadata": {
        "colab": {
          "base_uri": "https://localhost:8080/"
        },
        "id": "0AmFqAmtXC_N",
        "outputId": "3a378539-6b44-4278-9c0b-67451fa873c1"
      },
      "execution_count": null,
      "outputs": [
        {
          "output_type": "execute_result",
          "data": {
            "text/plain": [
              "[1, 10, 100, [200, 300], 500, 600]"
            ]
          },
          "metadata": {},
          "execution_count": 20
        }
      ]
    },
    {
      "cell_type": "code",
      "source": [
        "lista1.reverse()\n",
        "lista1"
      ],
      "metadata": {
        "colab": {
          "base_uri": "https://localhost:8080/"
        },
        "id": "UK1gaxfHXlae",
        "outputId": "248a4559-43ed-416e-dacc-d5e9decdd1b2"
      },
      "execution_count": null,
      "outputs": [
        {
          "output_type": "execute_result",
          "data": {
            "text/plain": [
              "[600, 500, [200, 300], 100, 10, 1]"
            ]
          },
          "metadata": {},
          "execution_count": 21
        }
      ]
    },
    {
      "cell_type": "code",
      "source": [
        "lista1.pop()\n",
        "lista1"
      ],
      "metadata": {
        "colab": {
          "base_uri": "https://localhost:8080/"
        },
        "id": "hgh-TWXlXvLa",
        "outputId": "93a6e938-9425-4b6a-e76c-28247db765e3"
      },
      "execution_count": null,
      "outputs": [
        {
          "output_type": "execute_result",
          "data": {
            "text/plain": [
              "[600, 500, [200, 300], 100, 10]"
            ]
          },
          "metadata": {},
          "execution_count": 22
        }
      ]
    },
    {
      "cell_type": "code",
      "source": [
        "lista1.remove(10)\n",
        "lista1"
      ],
      "metadata": {
        "colab": {
          "base_uri": "https://localhost:8080/",
          "height": 193
        },
        "id": "8FQrOokiX3FS",
        "outputId": "71bc3e8a-7a78-4029-e1c9-b90f4870302f"
      },
      "execution_count": null,
      "outputs": [
        {
          "output_type": "error",
          "ename": "ValueError",
          "evalue": "list.remove(x): x not in list",
          "traceback": [
            "\u001b[0;31m---------------------------------------------------------------------------\u001b[0m",
            "\u001b[0;31mValueError\u001b[0m                                Traceback (most recent call last)",
            "\u001b[0;32m<ipython-input-24-f0956f2fe896>\u001b[0m in \u001b[0;36m<cell line: 1>\u001b[0;34m()\u001b[0m\n\u001b[0;32m----> 1\u001b[0;31m \u001b[0mlista1\u001b[0m\u001b[0;34m.\u001b[0m\u001b[0mremove\u001b[0m\u001b[0;34m(\u001b[0m\u001b[0;36m10\u001b[0m\u001b[0;34m)\u001b[0m\u001b[0;34m\u001b[0m\u001b[0;34m\u001b[0m\u001b[0m\n\u001b[0m\u001b[1;32m      2\u001b[0m \u001b[0mlista1\u001b[0m\u001b[0;34m\u001b[0m\u001b[0;34m\u001b[0m\u001b[0m\n",
            "\u001b[0;31mValueError\u001b[0m: list.remove(x): x not in list"
          ]
        }
      ]
    },
    {
      "cell_type": "code",
      "source": [
        "lista1.insert(2, [1,2,3,4])\n",
        "lista1"
      ],
      "metadata": {
        "colab": {
          "base_uri": "https://localhost:8080/"
        },
        "id": "XaUPL2kVYmap",
        "outputId": "03f1ce2b-161e-4863-a8f9-aba5ae33f565"
      },
      "execution_count": null,
      "outputs": [
        {
          "output_type": "execute_result",
          "data": {
            "text/plain": [
              "[600, 500, [1, 2, 3, 4], [200, 300], 100]"
            ]
          },
          "metadata": {},
          "execution_count": 25
        }
      ]
    },
    {
      "cell_type": "code",
      "source": [
        "lista1.insert(1, lista1)\n",
        "lista1"
      ],
      "metadata": {
        "colab": {
          "base_uri": "https://localhost:8080/"
        },
        "id": "bxLIDOSmYxZg",
        "outputId": "b732810e-7ca4-4ec1-d7f5-fa33c330487f"
      },
      "execution_count": null,
      "outputs": [
        {
          "output_type": "execute_result",
          "data": {
            "text/plain": [
              "[600, [...], 500, [1, 2, 3, 4], [200, 300], 100]"
            ]
          },
          "metadata": {},
          "execution_count": 26
        }
      ]
    },
    {
      "cell_type": "code",
      "source": [
        "lista3 = [1,2,2,3,3,3,4,4,4,4]\n",
        "lista3.count(4)"
      ],
      "metadata": {
        "colab": {
          "base_uri": "https://localhost:8080/"
        },
        "id": "5k0qGhziaDWY",
        "outputId": "53662ead-34cf-4ddf-e5b9-2a7b1dcc2368"
      },
      "execution_count": null,
      "outputs": [
        {
          "output_type": "execute_result",
          "data": {
            "text/plain": [
              "4"
            ]
          },
          "metadata": {},
          "execution_count": 27
        }
      ]
    },
    {
      "cell_type": "code",
      "source": [
        "lista4 = [100,1,10000,200]\n",
        "lista4.sort()\n",
        "lista4"
      ],
      "metadata": {
        "colab": {
          "base_uri": "https://localhost:8080/"
        },
        "id": "lluqeMjnaP4z",
        "outputId": "e78f833a-90cd-44c0-d1f4-5086c257fc49"
      },
      "execution_count": null,
      "outputs": [
        {
          "output_type": "execute_result",
          "data": {
            "text/plain": [
              "[1, 100, 200, 10000]"
            ]
          },
          "metadata": {},
          "execution_count": 28
        }
      ]
    },
    {
      "cell_type": "markdown",
      "source": [
        "lista4 = [100,1,10000,200]\n",
        "sorted(lista4)"
      ],
      "metadata": {
        "id": "86YzVCnQayUB"
      }
    },
    {
      "cell_type": "markdown",
      "source": [
        "append - colocar os valores como lista, ficando uma lista dentro de outra\n",
        "\n",
        "extend - adiciona como um valor da msm lista\n",
        "\n",
        "reverse - reverte a ordem\n",
        "\n",
        "pop - retira o último elemento, retorna (print)\n",
        "\n",
        "remove - vc indica qual vai ser o valor removido\n",
        "\n",
        "count - conta as vezes em que o valor é apresentado\n",
        "\n",
        "sorted - ordena os valores"
      ],
      "metadata": {
        "id": "9VMOMV7xXQr6"
      }
    },
    {
      "cell_type": "code",
      "source": [
        "lista20 = lista4\n",
        "lista20"
      ],
      "metadata": {
        "colab": {
          "base_uri": "https://localhost:8080/"
        },
        "id": "RcoZaoV8bWTy",
        "outputId": "6cd35f39-1ddb-4341-e722-c78270f5b265"
      },
      "execution_count": null,
      "outputs": [
        {
          "output_type": "execute_result",
          "data": {
            "text/plain": [
              "[100, 1, 10000, 200]"
            ]
          },
          "metadata": {},
          "execution_count": 30
        }
      ]
    },
    {
      "cell_type": "markdown",
      "source": [
        "Mas assim a medida que alterar a lista 20 ou 4, vai alterar na outra a solução é usar .copy ele 'tira' esse ligamento"
      ],
      "metadata": {
        "id": "UDgKmqKMbmVc"
      }
    },
    {
      "cell_type": "code",
      "source": [
        "lista30 = lista20.copy()\n",
        "lista30"
      ],
      "metadata": {
        "colab": {
          "base_uri": "https://localhost:8080/"
        },
        "id": "HJ8PEND5b6Jb",
        "outputId": "a2817cb7-5ba5-47e5-8ab4-2b87916c7070"
      },
      "execution_count": null,
      "outputs": [
        {
          "output_type": "execute_result",
          "data": {
            "text/plain": [
              "[100, 1, 10000, 200]"
            ]
          },
          "metadata": {},
          "execution_count": 31
        }
      ]
    }
  ]
}