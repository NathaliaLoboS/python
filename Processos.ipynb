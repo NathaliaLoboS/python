{
 "cells": [
  {
   "cell_type": "code",
   "execution_count": 120,
   "metadata": {},
   "outputs": [],
   "source": [
    "import pandas as pd\n",
    "import numpy as np"
   ]
  },
  {
   "cell_type": "code",
   "execution_count": 121,
   "metadata": {},
   "outputs": [],
   "source": [
    "caminho = 'C:/Users/arthur.g.souza/Documents/Python Scripts/07.05_reclamacoes/reclamacao_fev_jun.gzip'\n",
    "df = pd.read_parquet(caminho)"
   ]
  },
  {
   "cell_type": "code",
   "execution_count": 122,
   "metadata": {},
   "outputs": [
    {
     "data": {
      "text/plain": [
       "2023.03    697\n",
       "2023.05    653\n",
       "2023.04    622\n",
       "2023.06    601\n",
       "2023.02    393\n",
       "Name: Data da Autuação, dtype: int64"
      ]
     },
     "execution_count": 122,
     "metadata": {},
     "output_type": "execute_result"
    }
   ],
   "source": [
    "import datetime\n",
    "from datetime import date, timedelta\n",
    "\n",
    "df['Data da Autuação'].dt.strftime('%Y.%m').value_counts()"
   ]
  },
  {
   "cell_type": "code",
   "execution_count": 123,
   "metadata": {},
   "outputs": [
    {
     "data": {
      "text/plain": [
       "Rcl-57762    1\n",
       "Rcl-59745    1\n",
       "Rcl-59736    1\n",
       "Rcl-59737    1\n",
       "Rcl-59738    1\n",
       "            ..\n",
       "Rcl-58753    1\n",
       "Rcl-58754    1\n",
       "Rcl-58755    1\n",
       "Rcl-58756    1\n",
       "Rcl-60731    1\n",
       "Name: Link Processo, Length: 2966, dtype: int64"
      ]
     },
     "execution_count": 123,
     "metadata": {},
     "output_type": "execute_result"
    }
   ],
   "source": [
    "df['Link Processo'].value_counts()"
   ]
  },
  {
   "cell_type": "code",
   "execution_count": 124,
   "metadata": {},
   "outputs": [],
   "source": [
    "# importa dados de decisão\n",
    "caminho = 'C:/Users/arthur.g.souza/Documents/Python Scripts/07.05_reclamacoes/decisoes_rcl_ate_hoje.xlsx'\n",
    "df_decisao = pd.read_excel(caminho)"
   ]
  },
  {
   "cell_type": "code",
   "execution_count": 125,
   "metadata": {},
   "outputs": [],
   "source": [
    "df_decisao['Link Processo'] = df_decisao['Classe'] + '-' + df_decisao['Número'].astype(str)"
   ]
  },
  {
   "cell_type": "code",
   "execution_count": 126,
   "metadata": {},
   "outputs": [
    {
     "data": {
      "text/plain": [
       "(95012, 18)"
      ]
     },
     "execution_count": 126,
     "metadata": {},
     "output_type": "execute_result"
    }
   ],
   "source": [
    "# Vamos retirar os processos acima que tem mais de uma decisão e não é decisão final\n",
    "drop_count2 = df_decisao[(df_decisao['Link Processo'].isin(condition_filter.index)) &\n",
    "                         (df_decisao['Subgrupo andamento decisão'] != 'Decisão Final')]\n",
    "\n",
    "df_decisao.drop(drop_count2.index, inplace = True)\n",
    "df_decisao.shape"
   ]
  },
  {
   "cell_type": "code",
   "execution_count": 127,
   "metadata": {},
   "outputs": [],
   "source": [
    "df_teste = pd.merge(df, df_decisao, how='left', on='Link Processo')"
   ]
  },
  {
   "cell_type": "code",
   "execution_count": 128,
   "metadata": {},
   "outputs": [
    {
     "data": {
      "text/plain": [
       "Rcl-57957    4\n",
       "Rcl-58775    3\n",
       "Rcl-57762    2\n",
       "Rcl-59110    2\n",
       "Rcl-58271    2\n",
       "            ..\n",
       "Rcl-58773    1\n",
       "Rcl-58774    1\n",
       "Rcl-58776    1\n",
       "Rcl-58777    1\n",
       "Rcl-60731    1\n",
       "Name: Link Processo, Length: 2966, dtype: int64"
      ]
     },
     "execution_count": 128,
     "metadata": {},
     "output_type": "execute_result"
    }
   ],
   "source": [
    "df_teste['Link Processo'].value_counts()"
   ]
  },
  {
   "cell_type": "code",
   "execution_count": 129,
   "metadata": {},
   "outputs": [],
   "source": [
    "unique_teste = df_teste.drop_duplicates(subset='Link Processo', keep = \"first\")"
   ]
  },
  {
   "cell_type": "code",
   "execution_count": 130,
   "metadata": {},
   "outputs": [
    {
     "data": {
      "text/plain": [
       "2023.03    697\n",
       "2023.05    653\n",
       "2023.04    622\n",
       "2023.06    601\n",
       "2023.02    393\n",
       "Name: Data da Autuação, dtype: int64"
      ]
     },
     "execution_count": 130,
     "metadata": {},
     "output_type": "execute_result"
    }
   ],
   "source": [
    "import datetime\n",
    "from datetime import date, timedelta\n",
    "\n",
    "df['Data da Autuação'].dt.strftime('%Y.%m').value_counts()"
   ]
  },
  {
   "cell_type": "code",
   "execution_count": 131,
   "metadata": {},
   "outputs": [
    {
     "data": {
      "text/plain": [
       "2023.03    697\n",
       "2023.05    653\n",
       "2023.04    622\n",
       "2023.06    601\n",
       "2023.02    393\n",
       "Name: Data da Autuação, dtype: int64"
      ]
     },
     "execution_count": 131,
     "metadata": {},
     "output_type": "execute_result"
    }
   ],
   "source": [
    "import datetime\n",
    "from datetime import date, timedelta\n",
    "\n",
    "unique_teste['Data da Autuação'].dt.strftime('%Y.%m').value_counts()"
   ]
  },
  {
   "cell_type": "code",
   "execution_count": 147,
   "metadata": {},
   "outputs": [],
   "source": [
    "teste = unique_teste.iloc[:, list(range(0,17)) + [22, 25, 26, 27, 30, 31]]"
   ]
  }
 ],
 "metadata": {
  "kernelspec": {
   "display_name": "Python 3",
   "language": "python",
   "name": "python3"
  },
  "language_info": {
   "codemirror_mode": {
    "name": "ipython",
    "version": 3
   },
   "file_extension": ".py",
   "mimetype": "text/x-python",
   "name": "python",
   "nbconvert_exporter": "python",
   "pygments_lexer": "ipython3",
   "version": "3.11.3"
  },
  "orig_nbformat": 4
 },
 "nbformat": 4,
 "nbformat_minor": 2
}
