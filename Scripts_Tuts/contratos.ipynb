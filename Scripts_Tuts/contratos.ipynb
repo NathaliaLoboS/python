{
 "cells": [
  {
   "cell_type": "code",
   "execution_count": null,
   "metadata": {},
   "outputs": [],
   "source": []
  },
  {
   "cell_type": "code",
   "execution_count": 4,
   "metadata": {},
   "outputs": [],
   "source": [
    "nome = \"Arthur\"\n",
    "estado_civil = \"solteiro\"\n",
    "CPF = \"030.261.721-38\"\n",
    "RG = \"3-630-827\"\n",
    "endereço = \"Casa 1, Guará, Brasília-DF\"\n",
    "serviço = \"consultoria\"\n",
    "escopo = \"análise de correspondência\"\n",
    "dias = \"39 (trinta e nove)\"\n",
    "consultores = \"7 (sete)\"\n",
    "valor = \"4.320,00\"\n",
    "meio = \"PIX\"\n",
    "gerente_comercial = \"Jéssica\"\n",
    "CPF_GC = \"123.456.789-10\"\n",
    "assessor = \"Paranaguá\"\n",
    "CPF_AG = \"109.876.543-21\"\n",
    "\n"
   ]
  },
  {
   "cell_type": "code",
   "execution_count": 3,
   "metadata": {},
   "outputs": [
    {
     "ename": "NameError",
     "evalue": "name 'datetime' is not defined",
     "output_type": "error",
     "traceback": [
      "\u001b[1;31m---------------------------------------------------------------------------\u001b[0m",
      "\u001b[1;31mNameError\u001b[0m                                 Traceback (most recent call last)",
      "Cell \u001b[1;32mIn[3], line 13\u001b[0m\n\u001b[0;32m      1\u001b[0m dicionario \u001b[39m=\u001b[39m {\n\u001b[0;32m      2\u001b[0m     \u001b[39m\"\u001b[39m\u001b[39mNOME_CLIENTE\u001b[39m\u001b[39m\"\u001b[39m : nome,\n\u001b[0;32m      3\u001b[0m     \u001b[39m\"\u001b[39m\u001b[39mESTADO_CIVIL\u001b[39m\u001b[39m\"\u001b[39m : estado_civil,\n\u001b[0;32m      4\u001b[0m     \u001b[39m\"\u001b[39m\u001b[39mN_CPF\u001b[39m\u001b[39m\"\u001b[39m : CPF,\n\u001b[0;32m      5\u001b[0m     \u001b[39m\"\u001b[39m\u001b[39mN_RG\u001b[39m\u001b[39m\"\u001b[39m : RG,\n\u001b[0;32m      6\u001b[0m     \u001b[39m\"\u001b[39m\u001b[39mENDEREÇO\u001b[39m\u001b[39m\"\u001b[39m : endereço,\n\u001b[0;32m      7\u001b[0m     \u001b[39m\"\u001b[39m\u001b[39mNOME_SERVIÇO\u001b[39m\u001b[39m\"\u001b[39m : serviço,\n\u001b[0;32m      8\u001b[0m     \u001b[39m\"\u001b[39m\u001b[39mESCOPO\u001b[39m\u001b[39m\"\u001b[39m : escopo,\n\u001b[0;32m      9\u001b[0m     \u001b[39m\"\u001b[39m\u001b[39mDIAS_ÚTEIS\u001b[39m\u001b[39m\"\u001b[39m : dias,\n\u001b[0;32m     10\u001b[0m     \u001b[39m\"\u001b[39m\u001b[39mN_CONSULTORES\u001b[39m\u001b[39m\"\u001b[39m : consultores,\n\u001b[0;32m     11\u001b[0m     \u001b[39m\"\u001b[39m\u001b[39mVALOR\u001b[39m\u001b[39m\"\u001b[39m : valor,\n\u001b[0;32m     12\u001b[0m     \u001b[39m\"\u001b[39m\u001b[39mMEIO\u001b[39m\u001b[39m\"\u001b[39m : meio,\n\u001b[1;32m---> 13\u001b[0m     \u001b[39m\"\u001b[39m\u001b[39mDD\u001b[39m\u001b[39m\"\u001b[39m : \u001b[39mstr\u001b[39m(datetime\u001b[39m.\u001b[39mnow()\u001b[39m.\u001b[39mday),\n\u001b[0;32m     14\u001b[0m     \u001b[39m\"\u001b[39m\u001b[39mMM\u001b[39m\u001b[39m\"\u001b[39m : \u001b[39mstr\u001b[39m(datetime\u001b[39m.\u001b[39mnow()\u001b[39m.\u001b[39mmonth),\n\u001b[0;32m     15\u001b[0m     \u001b[39m\"\u001b[39m\u001b[39mAAAA\u001b[39m\u001b[39m\"\u001b[39m : \u001b[39mstr\u001b[39m(datetime\u001b[39m.\u001b[39mnow()\u001b[39m.\u001b[39myear),\n\u001b[0;32m     16\u001b[0m }\n",
      "\u001b[1;31mNameError\u001b[0m: name 'datetime' is not defined"
     ]
    }
   ],
   "source": [
    "dicionario = {\n",
    "    \"NOME_CLIENTE\" : nome,\n",
    "    \"ESTADO_CIVIL\" : estado_civil,\n",
    "    \"N_CPF\" : CPF,\n",
    "    \"N_RG\" : RG,\n",
    "    \"ENDEREÇO\" : endereço,\n",
    "    \"NOME_SERVIÇO\" : serviço,\n",
    "    \"ESCOPO\" : escopo,\n",
    "    \"DIAS_ÚTEIS\" : dias,\n",
    "    \"N_CONSULTORES\" : consultores,\n",
    "    \"VALOR\" : valor,\n",
    "    \"MEIO\" : meio,\n",
    "    \"DD\" : str(datetime.now().day),\n",
    "    \"MM\" : str(datetime.now().month),\n",
    "    \"AAAA\" : str(datetime.now().year),\n",
    "    \"GERENTE_COMERCIAL\" : gerente_comercial,\n",
    "    \"CPF_GC\" : CPF_GC,\n",
    "    \"Assessor de Gestão\" : assessor,\n",
    "    \"CPF_AG\" : CPF_AG,\n",
    "}"
   ]
  },
  {
   "cell_type": "code",
   "execution_count": null,
   "metadata": {},
   "outputs": [],
   "source": [
    "for paragrafo in documento.paragraphs:\n",
    "    for codigos in dicionario:\n",
    "        valor = dicionario[codigo]\n",
    "        paragrafo.text = paragrafo.text.replace(codigo, valor)"
   ]
  },
  {
   "cell_type": "code",
   "execution_count": null,
   "metadata": {},
   "outputs": [],
   "source": [
    "documento.save(f\"Contrato {nome}.docx\")"
   ]
  }
 ],
 "metadata": {
  "kernelspec": {
   "display_name": "tf",
   "language": "python",
   "name": "python3"
  },
  "language_info": {
   "codemirror_mode": {
    "name": "ipython",
    "version": 3
   },
   "file_extension": ".py",
   "mimetype": "text/x-python",
   "name": "python",
   "nbconvert_exporter": "python",
   "pygments_lexer": "ipython3",
   "version": "3.9.17"
  },
  "orig_nbformat": 4
 },
 "nbformat": 4,
 "nbformat_minor": 2
}
